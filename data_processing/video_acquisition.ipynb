{
 "cells": [
  {
   "cell_type": "code",
   "id": "initial_id",
   "metadata": {
    "collapsed": true,
    "ExecuteTime": {
     "end_time": "2024-07-11T16:10:13.416668Z",
     "start_time": "2024-07-11T16:10:13.413446Z"
    }
   },
   "source": "HOME = '../'",
   "outputs": [],
   "execution_count": 4
  },
  {
   "metadata": {
    "ExecuteTime": {
     "end_time": "2024-07-11T16:10:30.642704Z",
     "start_time": "2024-07-11T16:10:30.639175Z"
    }
   },
   "cell_type": "code",
   "source": [
    "from pathlib import Path\n",
    "\n",
    "VIDEO_DIR_PATH = f\"{str(Path(HOME).absolute())}/videos\"\n",
    "IMAGE_DIR_PATH = f\"{str(Path(HOME).absolute())}/images_from_videos\"\n",
    "if Path(IMAGE_DIR_PATH).exists():\n",
    "    IMAGE_DIR_PATH = f\"{str(Path(HOME).absolute())}/images\"\n",
    "else:\n",
    "    Path.mkdir(IMAGE_DIR_PATH)\n",
    "FRAME_STRIDE = 10"
   ],
   "id": "66f452d71705f10f",
   "outputs": [],
   "execution_count": 6
  },
  {
   "metadata": {
    "ExecuteTime": {
     "end_time": "2024-07-11T16:15:51.973933Z",
     "start_time": "2024-07-11T16:10:33.068918Z"
    }
   },
   "cell_type": "code",
   "source": [
    "import supervision as sv\n",
    "from tqdm.notebook import tqdm\n",
    "\n",
    "video_paths = sv.list_files_with_extensions(\n",
    "    directory=VIDEO_DIR_PATH,\n",
    "    extensions=[\"mov\", \"mp4\"])\n",
    "\n",
    "for video_path in tqdm(video_paths):\n",
    "    video_name = video_path.stem\n",
    "    image_name_pattern = video_name + \"-{:05d}.jpg\"\n",
    "    with sv.ImageSink(target_dir_path=IMAGE_DIR_PATH, image_name_pattern=image_name_pattern) as sink:\n",
    "        for image in sv.get_video_frames_generator(source_path=str(video_path), stride=FRAME_STRIDE):\n",
    "            sink.save_image(image=image)"
   ],
   "id": "b6dc0826876af120",
   "outputs": [
    {
     "data": {
      "text/plain": [
       "  0%|          | 0/66 [00:00<?, ?it/s]"
      ],
      "application/vnd.jupyter.widget-view+json": {
       "version_major": 2,
       "version_minor": 0,
       "model_id": "4eb541b6498742e0b47b5eee3c0ff802"
      }
     },
     "metadata": {},
     "output_type": "display_data"
    }
   ],
   "execution_count": 7
  }
 ],
 "metadata": {
  "kernelspec": {
   "display_name": "Python 3",
   "language": "python",
   "name": "python3"
  },
  "language_info": {
   "codemirror_mode": {
    "name": "ipython",
    "version": 2
   },
   "file_extension": ".py",
   "mimetype": "text/x-python",
   "name": "python",
   "nbconvert_exporter": "python",
   "pygments_lexer": "ipython2",
   "version": "2.7.6"
  }
 },
 "nbformat": 4,
 "nbformat_minor": 5
}
